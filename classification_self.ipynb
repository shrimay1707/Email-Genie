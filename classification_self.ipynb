{
  "nbformat": 4,
  "nbformat_minor": 0,
  "metadata": {
    "colab": {
      "provenance": []
    },
    "kernelspec": {
      "name": "python3",
      "display_name": "Python 3"
    },
    "language_info": {
      "name": "python"
    }
  },
  "cells": [
    {
      "cell_type": "code",
      "execution_count": 1,
      "metadata": {
        "id": "6cLIQVdsZ03q"
      },
      "outputs": [],
      "source": [
        "import torch\n",
        "import torch.nn as nn\n",
        "from sklearn.preprocessing import LabelEncoder\n",
        "import torch.nn.functional as F\n",
        "import pickle"
      ]
    },
    {
      "cell_type": "code",
      "source": [
        "df = pd.read_csv(\"/content/focused_synthetic_email_dataseta.csv\")"
      ],
      "metadata": {
        "id": "bpKJDBrCbY9l"
      },
      "execution_count": 2,
      "outputs": []
    },
    {
      "cell_type": "code",
      "source": [
        "def preprocess_data(df):\n",
        "    # Encode labels\n",
        "    le_category = LabelEncoder()\n",
        "    le_email_type = LabelEncoder()\n",
        "\n",
        "    df['category_encoded'] = le_category.fit_transform(df['category'])\n",
        "    df['email_type_encoded'] = le_email_type.fit_transform(df['email_type'])\n",
        "\n",
        "    # Create a vocabulary (you might want to use a more sophisticated tokenization method)\n",
        "    vocab = set()\n",
        "    for text in df['subject'] + ' ' + df['body']:\n",
        "        vocab.update(text.split())\n",
        "\n",
        "    word_to_idx = {word: i+1 for i, word in enumerate(vocab)}\n",
        "    word_to_idx['<PAD>'] = 0\n",
        "\n",
        "    return df, word_to_idx, le_category, le_email_type"
      ],
      "metadata": {
        "id": "H8n0Hbrqf1OW"
      },
      "execution_count": 3,
      "outputs": []
    },
    {
      "cell_type": "code",
      "source": [
        "class EmailDataset(Dataset):\n",
        "    def __init__(self, df, word_to_idx, max_length=100):\n",
        "        self.df = df\n",
        "        self.word_to_idx = word_to_idx\n",
        "        self.max_length = max_length\n",
        "\n",
        "    def __len__(self):\n",
        "        return len(self.df)\n",
        "\n",
        "    def __getitem__(self, idx):\n",
        "        row = self.df.iloc[idx]\n",
        "        subject = self.text_to_indices(row['subject'])\n",
        "        body = self.text_to_indices(row['body'])\n",
        "        category = row['category_encoded']\n",
        "        email_type = row['email_type_encoded']\n",
        "\n",
        "        return subject, body, category, email_type\n",
        "\n",
        "    def text_to_indices(self, text):\n",
        "        indices = [self.word_to_idx.get(word, 0) for word in text.split()[:self.max_length]]\n",
        "        if len(indices) < self.max_length:\n",
        "            indices += [0] * (self.max_length - len(indices))\n",
        "        return torch.tensor(indices)\n"
      ],
      "metadata": {
        "id": "aCFT-85hacni"
      },
      "execution_count": 4,
      "outputs": []
    },
    {
      "cell_type": "code",
      "source": [
        "class EmailClassifier(nn.Module):\n",
        "    def __init__(self, vocab_size, embed_dim, hidden_dim, num_classes_category, num_classes_email_type, dropout_rate=0.5):\n",
        "        super(EmailClassifier, self).__init__()\n",
        "        self.embedding = nn.Embedding(vocab_size, embed_dim)\n",
        "        self.lstm = nn.LSTM(embed_dim, hidden_dim, batch_first=True)\n",
        "        self.self_attention = nn.MultiheadAttention(hidden_dim, num_heads=8, batch_first=True)\n",
        "        self.conv = nn.Conv1d(hidden_dim, hidden_dim, kernel_size=3, padding=1)\n",
        "        self.fc = nn.Linear(hidden_dim, hidden_dim)\n",
        "        self.category_out = nn.Linear(hidden_dim, num_classes_category)\n",
        "        self.email_type_out = nn.Linear(hidden_dim, num_classes_email_type)\n",
        "\n",
        "        # Add dropout layers\n",
        "        self.dropout = nn.Dropout(dropout_rate)\n",
        "\n",
        "        # Randomly freeze layers\n",
        "        self.freeze_layers()\n",
        "\n",
        "    def freeze_layers(self):\n",
        "        layers = [self.embedding, self.lstm, self.self_attention, self.conv, self.fc]\n",
        "        for layer in random.sample(layers, k=2):  # Randomly freeze 2 layers\n",
        "            for param in layer.parameters():\n",
        "                param.requires_grad = False\n",
        "\n",
        "    def forward(self, subject, body):\n",
        "        x = torch.cat((subject, body), dim=1)\n",
        "        x = self.embedding(x)\n",
        "        x = self.dropout(x)  # Apply dropout after embedding\n",
        "\n",
        "        lstm_out, _ = self.lstm(x)\n",
        "        lstm_out = self.dropout(lstm_out)  # Apply dropout after LSTM\n",
        "\n",
        "        attn_out, _ = self.self_attention(lstm_out, lstm_out, lstm_out)\n",
        "        attn_out = self.dropout(attn_out)  # Apply dropout after self-attention\n",
        "\n",
        "        conv_out = self.conv(attn_out.transpose(1, 2)).transpose(1, 2)\n",
        "        conv_out = self.dropout(conv_out)  # Apply dropout after convolution\n",
        "\n",
        "        pooled = torch.max(conv_out, dim=1)[0]\n",
        "        fc_out = torch.relu(self.fc(pooled))\n",
        "        fc_out = self.dropout(fc_out)  # Apply dropout after fully connected layer\n",
        "\n",
        "        category_output = self.category_out(fc_out)\n",
        "        email_type_output = self.email_type_out(fc_out)\n",
        "        return category_output, email_type_output\n"
      ],
      "metadata": {
        "id": "SKAdx5XebM5M"
      },
      "execution_count": 5,
      "outputs": []
    },
    {
      "cell_type": "code",
      "source": [
        "df, word_to_idx, le_category, le_email_type = preprocess_data(df)"
      ],
      "metadata": {
        "id": "QSndGa2dDu5h"
      },
      "execution_count": 6,
      "outputs": []
    },
    {
      "cell_type": "code",
      "source": [
        "df, word_to_idx, le_category, le_email_type = preprocess_data(df)\n",
        "\n",
        "# Split the data\n",
        "train_df, val_df = train_test_split(df, test_size=0.2, random_state=42)\n",
        "\n",
        "# Create datasets and dataloaders\n",
        "train_dataset = EmailDataset(train_df, word_to_idx)\n",
        "val_dataset = EmailDataset(val_df, word_to_idx)\n",
        "\n",
        "BATCH_SIZE = 32\n",
        "train_loader = DataLoader(train_dataset, batch_size=BATCH_SIZE, shuffle=True)\n",
        "val_loader = DataLoader(val_dataset, batch_size=BATCH_SIZE)\n"
      ],
      "metadata": {
        "id": "CtIx2_7Yf-2K"
      },
      "execution_count": 15,
      "outputs": []
    },
    {
      "cell_type": "code",
      "source": [
        "VOCAB_SIZE = len(word_to_idx)\n",
        "EMBED_DIM = 200\n",
        "HIDDEN_DIM = 256\n",
        "NUM_CLASSES_CATEGORY = len(le_category.classes_)\n",
        "NUM_CLASSES_EMAIL_TYPE = len(le_email_type.classes_)\n",
        "LEARNING_RATE = 0.0005\n",
        "NUM_EPOCHS = 8\n",
        "\n",
        "# Create model\n",
        "device = torch.device(\"cuda\" if torch.cuda.is_available() else \"cpu\")\n",
        "model = EmailClassifier(VOCAB_SIZE, EMBED_DIM, HIDDEN_DIM, NUM_CLASSES_CATEGORY, NUM_CLASSES_EMAIL_TYPE, dropout_rate=0.5).to(device)\n",
        "\n",
        "# Loss and optimizer\n",
        "category_criterion = nn.CrossEntropyLoss()\n",
        "email_type_criterion = nn.CrossEntropyLoss()\n",
        "optimizer = torch.optim.Adam(model.parameters(), lr=0.001)\n",
        "scheduler = torch.optim.lr_scheduler.ReduceLROnPlateau(optimizer, 'min', patience=2, factor=0.5)\n"
      ],
      "metadata": {
        "id": "nfwEAbsVbU4H"
      },
      "execution_count": 37,
      "outputs": []
    },
    {
      "cell_type": "code",
      "source": [
        "state_dict = torch.load('/content/email_classification_model5.pth')\n",
        "\n",
        "# Load the state dict into your model\n",
        "model.load_state_dict(state_dict)"
      ],
      "metadata": {
        "colab": {
          "base_uri": "https://localhost:8080/"
        },
        "id": "z6Zpw5q5EEhH",
        "outputId": "dd402db7-ea08-4236-8045-eb8f9fe20fa9"
      },
      "execution_count": 20,
      "outputs": [
        {
          "output_type": "stream",
          "name": "stderr",
          "text": [
            "<ipython-input-20-3455797cb8b7>:1: FutureWarning: You are using `torch.load` with `weights_only=False` (the current default value), which uses the default pickle module implicitly. It is possible to construct malicious pickle data which will execute arbitrary code during unpickling (See https://github.com/pytorch/pytorch/blob/main/SECURITY.md#untrusted-models for more details). In a future release, the default value for `weights_only` will be flipped to `True`. This limits the functions that could be executed during unpickling. Arbitrary objects will no longer be allowed to be loaded via this mode unless they are explicitly allowlisted by the user via `torch.serialization.add_safe_globals`. We recommend you start setting `weights_only=True` for any use case where you don't have full control of the loaded file. Please open an issue on GitHub for any issues related to this experimental feature.\n",
            "  state_dict = torch.load('/content/email_classification_model5.pth')\n"
          ]
        },
        {
          "output_type": "execute_result",
          "data": {
            "text/plain": [
              "<All keys matched successfully>"
            ]
          },
          "metadata": {},
          "execution_count": 20
        }
      ]
    },
    {
      "cell_type": "code",
      "source": [
        "model.eval()"
      ],
      "metadata": {
        "colab": {
          "base_uri": "https://localhost:8080/"
        },
        "id": "ndPq7UOlER2F",
        "outputId": "a174d080-70d8-45a0-82a3-6b839c13dc65"
      },
      "execution_count": 21,
      "outputs": [
        {
          "output_type": "execute_result",
          "data": {
            "text/plain": [
              "EmailClassifier(\n",
              "  (embedding): Embedding(2426, 200)\n",
              "  (lstm): LSTM(200, 256, batch_first=True)\n",
              "  (self_attention): MultiheadAttention(\n",
              "    (out_proj): NonDynamicallyQuantizableLinear(in_features=256, out_features=256, bias=True)\n",
              "  )\n",
              "  (conv): Conv1d(256, 256, kernel_size=(3,), stride=(1,), padding=(1,))\n",
              "  (fc): Linear(in_features=256, out_features=256, bias=True)\n",
              "  (category_out): Linear(in_features=256, out_features=3, bias=True)\n",
              "  (email_type_out): Linear(in_features=256, out_features=3, bias=True)\n",
              "  (dropout): Dropout(p=0.5, inplace=False)\n",
              ")"
            ]
          },
          "metadata": {},
          "execution_count": 21
        }
      ]
    },
    {
      "cell_type": "code",
      "source": [
        "def unfreeze_all_layers(model):\n",
        "    for param in model.parameters():\n",
        "        param.requires_grad = True"
      ],
      "metadata": {
        "id": "ctP4wey8iqC3"
      },
      "execution_count": 17,
      "outputs": []
    },
    {
      "cell_type": "code",
      "source": [
        "df.columns"
      ],
      "metadata": {
        "colab": {
          "base_uri": "https://localhost:8080/"
        },
        "id": "emp72xGhevUv",
        "outputId": "6c0f0cfa-b33b-4ebf-e4d5-5d6f32dccd17"
      },
      "execution_count": 31,
      "outputs": [
        {
          "output_type": "execute_result",
          "data": {
            "text/plain": [
              "Index(['subject', 'body', 'category', 'email_type', 'category_encoded',\n",
              "       'email_type_encoded'],\n",
              "      dtype='object')"
            ]
          },
          "metadata": {},
          "execution_count": 31
        }
      ]
    },
    {
      "cell_type": "code",
      "source": [
        "for epoch in range(NUM_EPOCHS):\n",
        "    model.train()\n",
        "    train_loss = 0\n",
        "    for batch in train_loader:\n",
        "        subjects, bodies, categories, email_types = [b.to(device) for b in batch]\n",
        "\n",
        "        optimizer.zero_grad()\n",
        "        category_output, email_type_output = model(subjects, bodies)\n",
        "\n",
        "        category_loss = category_criterion(category_output, categories)\n",
        "        email_type_loss = email_type_criterion(email_type_output, email_types)\n",
        "        total_loss = category_loss + email_type_loss\n",
        "\n",
        "        total_loss.backward()\n",
        "        optimizer.step()\n",
        "\n",
        "        train_loss += total_loss.item()\n",
        "\n",
        "    # Validation\n",
        "    model.eval()\n",
        "    val_loss = 0\n",
        "    category_correct = 0\n",
        "    email_type_correct = 0\n",
        "    total = 0\n",
        "\n",
        "    with torch.no_grad():\n",
        "        for batch in val_loader:\n",
        "            subjects, bodies, categories, email_types = [b.to(device) for b in batch]\n",
        "\n",
        "            category_output, email_type_output = model(subjects, bodies)\n",
        "\n",
        "            category_loss = category_criterion(category_output, categories)\n",
        "            email_type_loss = email_type_criterion(email_type_output, email_types)\n",
        "            total_loss = category_loss + email_type_loss\n",
        "\n",
        "            val_loss += total_loss.item()\n",
        "\n",
        "            _, category_predicted = torch.max(category_output, 1)\n",
        "            _, email_type_predicted = torch.max(email_type_output, 1)\n",
        "\n",
        "            total += categories.size(0)\n",
        "            category_correct += (category_predicted == categories).sum().item()\n",
        "            email_type_correct += (email_type_predicted == email_types).sum().item()\n",
        "\n",
        "    train_loss /= len(train_loader)\n",
        "    val_loss /= len(val_loader)\n",
        "    category_accuracy = category_correct / total\n",
        "    email_type_accuracy = email_type_correct / total\n",
        "\n",
        "    print(f\"Epoch [{epoch+1}/{NUM_EPOCHS}]\")\n",
        "    print(f\"Train Loss: {train_loss:.4f}\")\n",
        "    print(f\"Validation Loss: {val_loss:.4f}\")\n",
        "    print(f\"Category Accuracy: {category_accuracy:.4f}\")\n",
        "    print(f\"Email Type Accuracy: {email_type_accuracy:.4f}\")\n",
        "    print()\n",
        "\n",
        "    scheduler.step(val_loss)\n"
      ],
      "metadata": {
        "colab": {
          "base_uri": "https://localhost:8080/"
        },
        "id": "DO-QryLOe68n",
        "outputId": "41e48eae-fa01-4d5f-8654-d0018e8a07f4"
      },
      "execution_count": 38,
      "outputs": [
        {
          "output_type": "stream",
          "name": "stdout",
          "text": [
            "Epoch [1/8]\n",
            "Train Loss: 2.2079\n",
            "Validation Loss: 2.1891\n",
            "Category Accuracy: 0.3900\n",
            "Email Type Accuracy: 0.4100\n",
            "\n",
            "Epoch [2/8]\n",
            "Train Loss: 2.0911\n",
            "Validation Loss: 1.8230\n",
            "Category Accuracy: 0.8100\n",
            "Email Type Accuracy: 0.4200\n",
            "\n",
            "Epoch [3/8]\n",
            "Train Loss: 1.3995\n",
            "Validation Loss: 1.4837\n",
            "Category Accuracy: 0.9950\n",
            "Email Type Accuracy: 0.3250\n",
            "\n",
            "Epoch [4/8]\n",
            "Train Loss: 1.2058\n",
            "Validation Loss: 1.3492\n",
            "Category Accuracy: 1.0000\n",
            "Email Type Accuracy: 0.3350\n",
            "\n",
            "Epoch [5/8]\n",
            "Train Loss: 1.1784\n",
            "Validation Loss: 1.3367\n",
            "Category Accuracy: 1.0000\n",
            "Email Type Accuracy: 0.4150\n",
            "\n",
            "Epoch [6/8]\n",
            "Train Loss: 1.1508\n",
            "Validation Loss: 1.2840\n",
            "Category Accuracy: 1.0000\n",
            "Email Type Accuracy: 0.4050\n",
            "\n",
            "Epoch [7/8]\n",
            "Train Loss: 1.1308\n",
            "Validation Loss: 1.3308\n",
            "Category Accuracy: 1.0000\n",
            "Email Type Accuracy: 0.4250\n",
            "\n",
            "Epoch [8/8]\n",
            "Train Loss: 1.1033\n",
            "Validation Loss: 1.2667\n",
            "Category Accuracy: 0.9850\n",
            "Email Type Accuracy: 0.5600\n",
            "\n"
          ]
        }
      ]
    },
    {
      "cell_type": "code",
      "source": [
        "# Save model weights\n",
        "torch.save(model.state_dict(), 'email_classification_model5.pth')\n",
        "print(\"Model weights saved to 'email_classification_model5.pth'\")\n"
      ],
      "metadata": {
        "colab": {
          "base_uri": "https://localhost:8080/"
        },
        "id": "_yd-S1t-bXWu",
        "outputId": "ad072937-3a53-47d1-d30e-d88b24c5f1af"
      },
      "execution_count": 36,
      "outputs": [
        {
          "output_type": "stream",
          "name": "stdout",
          "text": [
            "Model weights saved to 'email_classification_model5.pth'\n"
          ]
        }
      ]
    },
    {
      "cell_type": "code",
      "source": [
        "def classify_email(model, subject, body, word_to_idx, le_category, le_email_type, max_length=100, device='cpu'):\n",
        "    # Preprocess the input\n",
        "    def text_to_indices(text):\n",
        "        indices = [word_to_idx.get(word, 0) for word in text.split()[:max_length]]\n",
        "        if len(indices) < max_length:\n",
        "            indices += [0] * (max_length - len(indices))\n",
        "        return torch.tensor(indices).unsqueeze(0)  # Add batch dimension\n",
        "\n",
        "    # Convert text to indices\n",
        "    subject_tensor = text_to_indices(subject).to(device)\n",
        "    body_tensor = text_to_indices(body).to(device)\n",
        "\n",
        "    # Set model to evaluation mode\n",
        "    model.eval()\n",
        "\n",
        "    # Get predictions\n",
        "    with torch.no_grad():\n",
        "        category_output, email_type_output = model(subject_tensor, body_tensor)\n",
        "\n",
        "        # Apply softmax to get probabilities\n",
        "        category_probs = F.softmax(category_output, dim=1)\n",
        "        email_type_probs = F.softmax(email_type_output, dim=1)\n",
        "\n",
        "        # Get the predicted classes\n",
        "        _, category_pred = torch.max(category_probs, 1)\n",
        "        _, email_type_pred = torch.max(email_type_probs, 1)\n",
        "\n",
        "    # Convert predictions to original labels\n",
        "    predicted_category = le_category.inverse_transform(category_pred.cpu().numpy())[0]\n",
        "    predicted_email_type = le_email_type.inverse_transform(email_type_pred.cpu().numpy())[0]\n",
        "\n",
        "    # Get top 3 probabilities for each classification\n",
        "    top_3_category = torch.topk(category_probs, 3)\n",
        "    top_3_email_type = torch.topk(email_type_probs, 3)\n",
        "\n",
        "    # Prepare results\n",
        "    results = {\n",
        "        predicted_category, predicted_email_type\n",
        "    }\n",
        "\n",
        "    return results\n",
        "\n",
        "# Usage example:\n",
        "# Assuming you have your trained model, word_to_idx, le_category, and le_email_type\n",
        "\n",
        "model.to(device)  # Make sure the model is on the same device as the input tensors\n",
        "\n",
        "custom_subject = \"course syllabus\"\n",
        "custom_body = \"Could you send me the updated syllabus for the upcoming course on Machine Learning? I want to prepare early.\"\n",
        "\n",
        "results = classify_email(model, custom_subject, custom_body, word_to_idx, le_category, le_email_type, device=device)\n",
        "\n",
        "# print(f\"Predicted Category: {results['predicted_category']}\")\n",
        "# print(f\"Predicted Email Type: {results['predicted_email_type']}\")\n",
        "# print(\"\\nTop 3 Categories:\")\n",
        "# for category, prob in results['top_3_categories']:\n",
        "#     print(f\"  {category}: {prob:.4f}\")\n",
        "# print(\"\\nTop 3 Email Types:\")\n",
        "# for email_type, prob in results['top_3_email_types']:\n",
        "#     print(f\"  {email_type}: {prob:.4f}\")\n",
        "\n",
        "print(results)"
      ],
      "metadata": {
        "colab": {
          "base_uri": "https://localhost:8080/"
        },
        "id": "QQx_nNCrgZTG",
        "outputId": "ef02e178-93bf-46b1-e888-45e08e0a3f75"
      },
      "execution_count": 58,
      "outputs": [
        {
          "output_type": "stream",
          "name": "stdout",
          "text": [
            "{'Research Query', 'Student inquiries'}\n"
          ]
        }
      ]
    },
    {
      "cell_type": "code",
      "source": [
        "subject = \"Query about peer review request application partnership\"\n",
        "body = \"I'm conducting research on research data sharing and would like to inquire about potential resources or collaborations urgently and privately \""
      ],
      "metadata": {
        "id": "stZJ8hpwmWn8"
      },
      "execution_count": 42,
      "outputs": []
    },
    {
      "cell_type": "code",
      "source": [
        "results = classify_email(model, subject, body, word_to_idx, le_category, le_email_type, device=device)\n",
        "\n",
        "print(f\"Predicted Category: {results['predicted_category']}\")\n",
        "print(f\"Predicted Email Type: {results['predicted_email_type']}\")\n",
        "print(\"\\nTop 3 Categories:\")\n",
        "for category, prob in results['top_3_categories']:\n",
        "    print(f\"  {category}: {prob:.4f}\")\n",
        "print(\"\\nTop 3 Email Types:\")\n",
        "for email_type, prob in results['top_3_email_types']:\n",
        "    print(f\"  {email_type}: {prob:.4f}\")"
      ],
      "metadata": {
        "colab": {
          "base_uri": "https://localhost:8080/"
        },
        "id": "8Bqz8fDFmmWm",
        "outputId": "5eb2184b-78dc-465f-d2b5-919ba9421c2e"
      },
      "execution_count": 43,
      "outputs": [
        {
          "output_type": "stream",
          "name": "stdout",
          "text": [
            "Predicted Category: Student inquiries\n",
            "Predicted Email Type: Research Query\n",
            "\n",
            "Top 3 Categories:\n",
            "  Student inquiries: 0.6261\n",
            "  Academic collaboration inquiries: 0.3233\n",
            "  Corporate inquiries: 0.0506\n",
            "\n",
            "Top 3 Email Types:\n",
            "  Research Query: 0.3897\n",
            "  Sensitive Email: 0.3059\n",
            "  General Information: 0.3044\n"
          ]
        }
      ]
    },
    {
      "cell_type": "code",
      "source": [
        "import pickle"
      ],
      "metadata": {
        "id": "fpPtQ7TzK-o3"
      },
      "execution_count": 45,
      "outputs": []
    },
    {
      "cell_type": "code",
      "source": [
        "data_to_save = {\n",
        "    'word_to_idx': word_to_idx,\n",
        "    'le_category': le_category,\n",
        "    'le_email_type': le_email_type\n",
        "}\n",
        "with open('model_data.pkl', 'wb') as f:\n",
        "    pickle.dump(data_to_save, f)"
      ],
      "metadata": {
        "id": "i8mCN871mrCq"
      },
      "execution_count": 46,
      "outputs": []
    },
    {
      "cell_type": "code",
      "source": [
        "VOCAB_SIZE"
      ],
      "metadata": {
        "colab": {
          "base_uri": "https://localhost:8080/"
        },
        "id": "LNZgDNXmLUEn",
        "outputId": "11d5ffb0-ab52-40bc-da7a-a86a080c5c9b"
      },
      "execution_count": 48,
      "outputs": [
        {
          "output_type": "execute_result",
          "data": {
            "text/plain": [
              "2426"
            ]
          },
          "metadata": {},
          "execution_count": 48
        }
      ]
    },
    {
      "cell_type": "code",
      "source": [],
      "metadata": {
        "id": "Ol7Gdx_zLe8A"
      },
      "execution_count": 53,
      "outputs": []
    },
    {
      "cell_type": "code",
      "source": [
        "class EmailClassifier(nn.Module):\n",
        "    def __init__(self, vocab_size, embed_dim, hidden_dim, num_classes_category, num_classes_email_type, dropout_rate=0.5):\n",
        "        super(EmailClassifier, self).__init__()\n",
        "        self.embedding = nn.Embedding(vocab_size, embed_dim)\n",
        "        self.lstm = nn.LSTM(embed_dim, hidden_dim, batch_first=True)\n",
        "        self.self_attention = nn.MultiheadAttention(hidden_dim, num_heads=8, batch_first=True)\n",
        "        self.conv = nn.Conv1d(hidden_dim, hidden_dim, kernel_size=3, padding=1)\n",
        "        self.fc = nn.Linear(hidden_dim, hidden_dim)\n",
        "        self.category_out = nn.Linear(hidden_dim, num_classes_category)\n",
        "        self.email_type_out = nn.Linear(hidden_dim, num_classes_email_type)\n",
        "\n",
        "        # Add dropout layers\n",
        "        self.dropout = nn.Dropout(dropout_rate)\n",
        "\n",
        "        # Randomly freeze layers\n",
        "        self.freeze_layers()\n",
        "\n",
        "    def freeze_layers(self):\n",
        "        layers = [self.embedding, self.lstm, self.self_attention, self.conv, self.fc]\n",
        "        for layer in random.sample(layers, k=2):  # Randomly freeze 2 layers\n",
        "            for param in layer.parameters():\n",
        "                param.requires_grad = False\n",
        "\n",
        "    def forward(self, subject, body):\n",
        "        x = torch.cat((subject, body), dim=1)\n",
        "        x = self.embedding(x)\n",
        "        x = self.dropout(x)  # Apply dropout after embedding\n",
        "\n",
        "        lstm_out, _ = self.lstm(x)\n",
        "        lstm_out = self.dropout(lstm_out)  # Apply dropout after LSTM\n",
        "\n",
        "        attn_out, _ = self.self_attention(lstm_out, lstm_out, lstm_out)\n",
        "        attn_out = self.dropout(attn_out)  # Apply dropout after self-attention\n",
        "\n",
        "        conv_out = self.conv(attn_out.transpose(1, 2)).transpose(1, 2)\n",
        "        conv_out = self.dropout(conv_out)  # Apply dropout after convolution\n",
        "\n",
        "        pooled = torch.max(conv_out, dim=1)[0]\n",
        "        fc_out = torch.relu(self.fc(pooled))\n",
        "        fc_out = self.dropout(fc_out)  # Apply dropout after fully connected layer\n",
        "\n",
        "        category_output = self.category_out(fc_out)\n",
        "        email_type_output = self.email_type_out(fc_out)\n",
        "        return category_output, email_type_output\n",
        "\n",
        "def classify_email(model, subject, body, word_to_idx, le_category, le_email_type, max_length=100, device='cpu'):\n",
        "    # Preprocess the input\n",
        "    def text_to_indices(text):\n",
        "        indices = [word_to_idx.get(word, 0) for word in text.split()[:max_length]]\n",
        "        if len(indices) < max_length:\n",
        "            indices += [0] * (max_length - len(indices))\n",
        "        return torch.tensor(indices).unsqueeze(0)  # Add batch dimension\n",
        "\n",
        "    # Convert text to indices\n",
        "    subject_tensor = text_to_indices(subject).to(device)\n",
        "    body_tensor = text_to_indices(body).to(device)\n",
        "\n",
        "    # Set model to evaluation mode\n",
        "    model.eval()\n",
        "\n",
        "    # Get predictions\n",
        "    with torch.no_grad():\n",
        "        category_output, email_type_output = model(subject_tensor, body_tensor)\n",
        "\n",
        "        # Apply softmax to get probabilities\n",
        "        category_probs = F.softmax(category_output, dim=1)\n",
        "        email_type_probs = F.softmax(email_type_output, dim=1)\n",
        "\n",
        "        # Get the predicted classes\n",
        "        _, category_pred = torch.max(category_probs, 1)\n",
        "        _, email_type_pred = torch.max(email_type_probs, 1)\n",
        "\n",
        "    # Convert predictions to original labels\n",
        "    predicted_category = le_category.inverse_transform(category_pred.cpu().numpy())[0]\n",
        "    predicted_email_type = le_email_type.inverse_transform(email_type_pred.cpu().numpy())[0]\n",
        "\n",
        "    # Get top 3 probabilities for each classification\n",
        "    top_3_category = torch.topk(category_probs, 3)\n",
        "    top_3_email_type = torch.topk(email_type_probs, 3)\n",
        "\n",
        "    # Prepare results\n",
        "    results = {\n",
        "        predicted_category, predicted_email_type\n",
        "    }\n",
        "\n",
        "    return results\n",
        "\n",
        "\n",
        "embed_dim = 200\n",
        "hidden_dim = 256\n",
        "num_classes_category = 3 #len(le_category.classes_)\n",
        "num_classes_email_type = 3 #len(le_email_type.classes_)\n",
        "LEARNING_RATE = 0.0005\n",
        "NUM_EPOCHS = 8\n",
        "\n",
        "\n",
        "def load_model_and_data():\n",
        "    # Load the model\n",
        "    vocab_size = 2426\n",
        "    model = EmailClassifier(vocab_size, embed_dim, hidden_dim, num_classes_category, num_classes_email_type)\n",
        "    model.load_state_dict(torch.load('/content/email_classification_model5.pth', map_location=torch.device('cpu')))\n",
        "    model.eval()\n",
        "\n",
        "    # Load other necessary data\n",
        "    with open('model_data.pkl', 'rb') as f:\n",
        "        data = pickle.load(f)\n",
        "\n",
        "    return model, data['word_to_idx'], data['le_category'], data['le_email_type']\n",
        "\n",
        "# Load model and data\n",
        "model, word_to_idx, le_category, le_email_type = load_model_and_data()\n",
        "\n",
        "results = classify_email(model, subject, body, word_to_idx, le_category, le_email_type)\n",
        "results_list = list(results)\n",
        "\n",
        "# Extract category and email_type\n",
        "category = results_list[0]\n",
        "email_type = results_list[1]\n",
        "\n",
        "print(f\"Category: {category}\")\n",
        "print(f\"Email Type: {email_type}\")\n"
      ],
      "metadata": {
        "colab": {
          "base_uri": "https://localhost:8080/"
        },
        "id": "yBzYQ4dSK9ne",
        "outputId": "ecc96361-da4a-47f8-8095-02e0092be87f"
      },
      "execution_count": 63,
      "outputs": [
        {
          "output_type": "stream",
          "name": "stdout",
          "text": [
            "Category: General Information\n",
            "Email Type: Student inquiries\n"
          ]
        },
        {
          "output_type": "stream",
          "name": "stderr",
          "text": [
            "<ipython-input-63-0767cf24f6f5>:13: FutureWarning: You are using `torch.load` with `weights_only=False` (the current default value), which uses the default pickle module implicitly. It is possible to construct malicious pickle data which will execute arbitrary code during unpickling (See https://github.com/pytorch/pytorch/blob/main/SECURITY.md#untrusted-models for more details). In a future release, the default value for `weights_only` will be flipped to `True`. This limits the functions that could be executed during unpickling. Arbitrary objects will no longer be allowed to be loaded via this mode unless they are explicitly allowlisted by the user via `torch.serialization.add_safe_globals`. We recommend you start setting `weights_only=True` for any use case where you don't have full control of the loaded file. Please open an issue on GitHub for any issues related to this experimental feature.\n",
            "  model.load_state_dict(torch.load('/content/email_classification_model5.pth', map_location=torch.device('cpu')))\n"
          ]
        }
      ]
    },
    {
      "cell_type": "code",
      "source": [],
      "metadata": {
        "id": "5q3U8ushLxvh"
      },
      "execution_count": 60,
      "outputs": []
    },
    {
      "cell_type": "code",
      "source": [
        "results"
      ],
      "metadata": {
        "colab": {
          "base_uri": "https://localhost:8080/"
        },
        "id": "mUXuwd80MGRx",
        "outputId": "f3e8fd3d-ef53-4580-8fe8-aa7f8690962e"
      },
      "execution_count": 64,
      "outputs": [
        {
          "output_type": "execute_result",
          "data": {
            "text/plain": [
              "{'General Information', 'Student inquiries'}"
            ]
          },
          "metadata": {},
          "execution_count": 64
        }
      ]
    },
    {
      "cell_type": "code",
      "source": [],
      "metadata": {
        "id": "6dAv-H95MHw4"
      },
      "execution_count": null,
      "outputs": []
    }
  ]
}